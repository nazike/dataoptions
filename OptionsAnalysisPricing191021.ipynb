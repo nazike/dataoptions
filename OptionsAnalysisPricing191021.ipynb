{
  "cells": [
    {
      "cell_type": "markdown",
      "metadata": {
        "colab_type": "text",
        "id": "view-in-github"
      },
      "source": [
        "<a href=\"https://colab.research.google.com/github/nazike/dataoptions/blob/main/OptionsAnalysisPricing191021.ipynb\" target=\"_parent\"><img src=\"https://colab.research.google.com/assets/colab-badge.svg\" alt=\"Open In Colab\"/></a>"
      ]
    },
    {
      "cell_type": "code",
      "execution_count": 1,
      "metadata": {
        "colab": {
          "base_uri": "https://localhost:8080/"
        },
        "id": "WjnZrXLwyPNI",
        "outputId": "84d36e95-20b2-4da8-9f75-5a45a4f91895"
      },
      "outputs": [],
      "source": [
        "import warnings\n",
        "warnings.filterwarnings('ignore')\n",
        "import pandas as pd\n",
        "import numpy as np\n",
        "from sklearn.model_selection import train_test_split"
      ]
    },
    {
      "cell_type": "code",
      "execution_count": 2,
      "metadata": {},
      "outputs": [],
      "source": [
        "#read file from the github repo\n",
        "columns = ['asset_price', 'maturity', 'rate', 'div', 'ivol', 'eu_price', 'am_price'] \n",
        "df1 = pd.read_csv('/Users/nazymazimbayev/Desktop/VS Code projects/dataoptions/data.csv')\n",
        "df1.columns = columns\n",
        "df2 = pd.read_csv('/Users/nazymazimbayev/Desktop/VS Code projects/dataoptions/data2.csv')\n",
        "df2.columns = columns"
      ]
    },
    {
      "cell_type": "code",
      "execution_count": 3,
      "metadata": {},
      "outputs": [],
      "source": [
        "#merge two dataframes\n",
        "df = pd.concat([df1, df2], axis=0)\n"
      ]
    },
    {
      "cell_type": "code",
      "execution_count": 4,
      "metadata": {},
      "outputs": [
        {
          "data": {
            "text/html": [
              "<div>\n",
              "<style scoped>\n",
              "    .dataframe tbody tr th:only-of-type {\n",
              "        vertical-align: middle;\n",
              "    }\n",
              "\n",
              "    .dataframe tbody tr th {\n",
              "        vertical-align: top;\n",
              "    }\n",
              "\n",
              "    .dataframe thead th {\n",
              "        text-align: right;\n",
              "    }\n",
              "</style>\n",
              "<table border=\"1\" class=\"dataframe\">\n",
              "  <thead>\n",
              "    <tr style=\"text-align: right;\">\n",
              "      <th></th>\n",
              "      <th>asset_price</th>\n",
              "      <th>maturity</th>\n",
              "      <th>rate</th>\n",
              "      <th>div</th>\n",
              "      <th>ivol</th>\n",
              "      <th>eu_price</th>\n",
              "      <th>am_price</th>\n",
              "    </tr>\n",
              "  </thead>\n",
              "  <tbody>\n",
              "    <tr>\n",
              "      <th>count</th>\n",
              "      <td>19026.000000</td>\n",
              "      <td>19026.000000</td>\n",
              "      <td>19026.000000</td>\n",
              "      <td>19026.000000</td>\n",
              "      <td>19026.000000</td>\n",
              "      <td>19026.000000</td>\n",
              "      <td>19026.000000</td>\n",
              "    </tr>\n",
              "    <tr>\n",
              "      <th>mean</th>\n",
              "      <td>99.040981</td>\n",
              "      <td>1.196045</td>\n",
              "      <td>0.049347</td>\n",
              "      <td>0.040105</td>\n",
              "      <td>0.358929</td>\n",
              "      <td>14.756278</td>\n",
              "      <td>15.419963</td>\n",
              "    </tr>\n",
              "    <tr>\n",
              "      <th>std</th>\n",
              "      <td>16.932147</td>\n",
              "      <td>1.244231</td>\n",
              "      <td>0.028933</td>\n",
              "      <td>0.032698</td>\n",
              "      <td>0.141156</td>\n",
              "      <td>9.980747</td>\n",
              "      <td>10.366195</td>\n",
              "    </tr>\n",
              "    <tr>\n",
              "      <th>min</th>\n",
              "      <td>0.000000</td>\n",
              "      <td>0.000000</td>\n",
              "      <td>0.000000</td>\n",
              "      <td>0.000000</td>\n",
              "      <td>0.000000</td>\n",
              "      <td>0.000000</td>\n",
              "      <td>0.000000</td>\n",
              "    </tr>\n",
              "    <tr>\n",
              "      <th>25%</th>\n",
              "      <td>84.517517</td>\n",
              "      <td>0.416620</td>\n",
              "      <td>0.024252</td>\n",
              "      <td>0.006123</td>\n",
              "      <td>0.239931</td>\n",
              "      <td>6.250488</td>\n",
              "      <td>6.514011</td>\n",
              "    </tr>\n",
              "    <tr>\n",
              "      <th>50%</th>\n",
              "      <td>98.763641</td>\n",
              "      <td>0.717913</td>\n",
              "      <td>0.049229</td>\n",
              "      <td>0.038077</td>\n",
              "      <td>0.363941</td>\n",
              "      <td>13.356029</td>\n",
              "      <td>13.966866</td>\n",
              "    </tr>\n",
              "    <tr>\n",
              "      <th>75%</th>\n",
              "      <td>113.161929</td>\n",
              "      <td>1.176921</td>\n",
              "      <td>0.074103</td>\n",
              "      <td>0.069090</td>\n",
              "      <td>0.479842</td>\n",
              "      <td>22.073175</td>\n",
              "      <td>23.301069</td>\n",
              "    </tr>\n",
              "    <tr>\n",
              "      <th>max</th>\n",
              "      <td>129.998220</td>\n",
              "      <td>4.998285</td>\n",
              "      <td>0.099997</td>\n",
              "      <td>0.099987</td>\n",
              "      <td>0.599896</td>\n",
              "      <td>58.741167</td>\n",
              "      <td>58.839442</td>\n",
              "    </tr>\n",
              "  </tbody>\n",
              "</table>\n",
              "</div>"
            ],
            "text/plain": [
              "        asset_price      maturity          rate           div          ivol  \\\n",
              "count  19026.000000  19026.000000  19026.000000  19026.000000  19026.000000   \n",
              "mean      99.040981      1.196045      0.049347      0.040105      0.358929   \n",
              "std       16.932147      1.244231      0.028933      0.032698      0.141156   \n",
              "min        0.000000      0.000000      0.000000      0.000000      0.000000   \n",
              "25%       84.517517      0.416620      0.024252      0.006123      0.239931   \n",
              "50%       98.763641      0.717913      0.049229      0.038077      0.363941   \n",
              "75%      113.161929      1.176921      0.074103      0.069090      0.479842   \n",
              "max      129.998220      4.998285      0.099997      0.099987      0.599896   \n",
              "\n",
              "           eu_price      am_price  \n",
              "count  19026.000000  19026.000000  \n",
              "mean      14.756278     15.419963  \n",
              "std        9.980747     10.366195  \n",
              "min        0.000000      0.000000  \n",
              "25%        6.250488      6.514011  \n",
              "50%       13.356029     13.966866  \n",
              "75%       22.073175     23.301069  \n",
              "max       58.741167     58.839442  "
            ]
          },
          "execution_count": 4,
          "metadata": {},
          "output_type": "execute_result"
        }
      ],
      "source": [
        "df.describe()"
      ]
    },
    {
      "cell_type": "code",
      "execution_count": 5,
      "metadata": {
        "id": "XrBG0oBrsUAV"
      },
      "outputs": [],
      "source": [
        "# Read the data\n",
        "X_full = df.copy()\n",
        "columns = ['asset_price', 'maturity', 'rate', 'div', 'ivol', 'eu_price', 'am_price'] \n",
        "X_full.columns = columns\n",
        "X_full['target'] = (X_full['am_price']-X_full['eu_price']).copy()\n",
        "\n",
        "\n",
        "# Remove rows with missing target, separate target from predictors\n",
        "X_full.dropna(axis=0, subset=['target'], inplace=True)\n",
        "y = X_full.target\n",
        "y_amer = X_full['am_price']\n",
        "X_full.drop(['am_price', 'target'], axis=1, inplace=True)\n",
        "\n",
        "\n",
        "# Break off validation set from training data\n",
        "X_train_full, X_valid_full, y_train, y_valid = train_test_split(X_full, y, \n",
        "                                                                train_size=0.8, test_size=0.2,\n",
        "                                                                random_state=0)\n",
        "\n",
        "# Select categorical columns with relatively low cardinality \n",
        "categorical_cols = [cname for cname in X_train_full.columns if\n",
        "                    X_train_full[cname].nunique() < 10 and \n",
        "                    X_train_full[cname].dtype == \"object\"]\n",
        "\n",
        "# Select numerical columns\n",
        "numerical_cols = [cname for cname in X_train_full.columns if \n",
        "                X_train_full[cname].dtype in ['int64', 'float64']]\n",
        "\n",
        "# Keep selected columns only\n",
        "my_cols = categorical_cols + numerical_cols\n",
        "X_train = X_train_full[my_cols].copy()\n",
        "X_valid = X_valid_full[my_cols].copy()\n",
        "\n"
      ]
    },
    {
      "cell_type": "code",
      "execution_count": 6,
      "metadata": {
        "colab": {
          "base_uri": "https://localhost:8080/",
          "height": 204
        },
        "id": "q2_WDvg8yNKb",
        "outputId": "d356a579-9eaf-4975-f255-b19fa2ff9d5e"
      },
      "outputs": [
        {
          "data": {
            "text/html": [
              "<div>\n",
              "<style scoped>\n",
              "    .dataframe tbody tr th:only-of-type {\n",
              "        vertical-align: middle;\n",
              "    }\n",
              "\n",
              "    .dataframe tbody tr th {\n",
              "        vertical-align: top;\n",
              "    }\n",
              "\n",
              "    .dataframe thead th {\n",
              "        text-align: right;\n",
              "    }\n",
              "</style>\n",
              "<table border=\"1\" class=\"dataframe\">\n",
              "  <thead>\n",
              "    <tr style=\"text-align: right;\">\n",
              "      <th></th>\n",
              "      <th>asset_price</th>\n",
              "      <th>maturity</th>\n",
              "      <th>rate</th>\n",
              "      <th>div</th>\n",
              "      <th>ivol</th>\n",
              "      <th>eu_price</th>\n",
              "    </tr>\n",
              "  </thead>\n",
              "  <tbody>\n",
              "    <tr>\n",
              "      <th>9066</th>\n",
              "      <td>86.772793</td>\n",
              "      <td>0.776712</td>\n",
              "      <td>0.016783</td>\n",
              "      <td>0.000000</td>\n",
              "      <td>0.464685</td>\n",
              "      <td>21.739530</td>\n",
              "    </tr>\n",
              "    <tr>\n",
              "      <th>3309</th>\n",
              "      <td>106.976961</td>\n",
              "      <td>3.701752</td>\n",
              "      <td>0.051707</td>\n",
              "      <td>0.001839</td>\n",
              "      <td>0.229701</td>\n",
              "      <td>7.231691</td>\n",
              "    </tr>\n",
              "    <tr>\n",
              "      <th>3572</th>\n",
              "      <td>71.220933</td>\n",
              "      <td>1.764234</td>\n",
              "      <td>0.034080</td>\n",
              "      <td>0.084616</td>\n",
              "      <td>0.175687</td>\n",
              "      <td>33.049968</td>\n",
              "    </tr>\n",
              "    <tr>\n",
              "      <th>4068</th>\n",
              "      <td>95.362040</td>\n",
              "      <td>0.949529</td>\n",
              "      <td>0.083446</td>\n",
              "      <td>0.011833</td>\n",
              "      <td>0.582503</td>\n",
              "      <td>19.912005</td>\n",
              "    </tr>\n",
              "    <tr>\n",
              "      <th>9352</th>\n",
              "      <td>119.899509</td>\n",
              "      <td>0.263941</td>\n",
              "      <td>0.010202</td>\n",
              "      <td>0.000000</td>\n",
              "      <td>0.572266</td>\n",
              "      <td>5.162801</td>\n",
              "    </tr>\n",
              "  </tbody>\n",
              "</table>\n",
              "</div>"
            ],
            "text/plain": [
              "      asset_price  maturity      rate       div      ivol   eu_price\n",
              "9066    86.772793  0.776712  0.016783  0.000000  0.464685  21.739530\n",
              "3309   106.976961  3.701752  0.051707  0.001839  0.229701   7.231691\n",
              "3572    71.220933  1.764234  0.034080  0.084616  0.175687  33.049968\n",
              "4068    95.362040  0.949529  0.083446  0.011833  0.582503  19.912005\n",
              "9352   119.899509  0.263941  0.010202  0.000000  0.572266   5.162801"
            ]
          },
          "execution_count": 6,
          "metadata": {},
          "output_type": "execute_result"
        }
      ],
      "source": [
        "X_train.head()"
      ]
    },
    {
      "cell_type": "code",
      "execution_count": 7,
      "metadata": {
        "colab": {
          "base_uri": "https://localhost:8080/"
        },
        "id": "HAZCNY2syOAi",
        "outputId": "4796181a-b9bb-4946-b293-7aa3e4954e4d"
      },
      "outputs": [
        {
          "name": "stdout",
          "output_type": "stream",
          "text": [
            "[14:04:38] WARNING: src/objective/regression_obj.cu:152: reg:linear is now deprecated in favor of reg:squarederror.\n",
            "MAE: 0.07346267971168954\n"
          ]
        }
      ],
      "source": [
        "from sklearn.compose import ColumnTransformer\n",
        "from sklearn.pipeline import Pipeline\n",
        "from sklearn.impute import SimpleImputer\n",
        "from sklearn.preprocessing import OneHotEncoder\n",
        "from sklearn.ensemble import RandomForestRegressor\n",
        "from sklearn.metrics import mean_absolute_error\n",
        "from xgboost import XGBRegressor\n",
        "\n",
        "# Preprocessing for numerical data\n",
        "numerical_transformer = SimpleImputer(strategy='constant')\n",
        "\n",
        "# Preprocessing for categorical data\n",
        "categorical_transformer = Pipeline(steps=[\n",
        "    ('imputer', SimpleImputer(strategy='most_frequent')),\n",
        "    ('onehot', OneHotEncoder(handle_unknown='ignore'))\n",
        "])\n",
        "\n",
        "# Bundle preprocessing for numerical and categorical data\n",
        "preprocessor = ColumnTransformer(\n",
        "    transformers=[\n",
        "        ('num', numerical_transformer, numerical_cols),\n",
        "        ('cat', categorical_transformer, categorical_cols)\n",
        "    ])\n",
        "\n",
        "# Define model\n",
        "model = XGBRegressor(n_estimators=5000, random_state=0, learning_rate=0.07, n_jobs=4)\n",
        "\n",
        "# Bundle preprocessing and modeling code in a pipeline\n",
        "clf = Pipeline(steps=[('preprocessor', preprocessor),\n",
        "                      ('model', model)\n",
        "                     ])\n",
        "\n",
        "# Preprocessing of training data, fit model \n",
        "clf.fit(X_train, y_train)\n",
        "\n",
        "# Preprocessing of validation data, get predictions\n",
        "preds = clf.predict(X_valid)\n",
        "\n",
        "print('MAE:', mean_absolute_error(y_valid, preds))"
      ]
    },
    {
      "cell_type": "code",
      "execution_count": 9,
      "metadata": {
        "colab": {
          "base_uri": "https://localhost:8080/"
        },
        "id": "adFnMLYo2DES",
        "outputId": "4cfe58b0-eb0c-42ca-920a-c008a296a40a"
      },
      "outputs": [
        {
          "name": "stdout",
          "output_type": "stream",
          "text": [
            "0.8488966134935994  %\n"
          ]
        }
      ],
      "source": [
        "# Making final price as a sum of max(0,target) and eu_price \n",
        "\n",
        "y_comp = np.maximum(np.zeros(len(preds)),preds) + X_valid['eu_price']\n",
        "y_valid_amer = y_amer[y_comp.index]\n",
        "data_error = y_comp - y_valid_amer\n",
        "mean_error = data_error.mean() / y_comp.mean()\n",
        "print(abs(100*mean_error), ' %')"
      ]
    },
    {
      "cell_type": "code",
      "execution_count": null,
      "metadata": {
        "id": "LkXqx0_16Jf9"
      },
      "outputs": [],
      "source": []
    },
    {
      "cell_type": "code",
      "execution_count": null,
      "metadata": {
        "colab": {
          "base_uri": "https://localhost:8080/",
          "height": 80
        },
        "id": "OgWnG9LJ9dY_",
        "outputId": "6bf076c6-a28b-4e59-9d49-f741938467c9"
      },
      "outputs": [],
      "source": []
    },
    {
      "cell_type": "code",
      "execution_count": null,
      "metadata": {
        "id": "Wp2iG2yy9bcu"
      },
      "outputs": [],
      "source": []
    },
    {
      "cell_type": "code",
      "execution_count": null,
      "metadata": {
        "colab": {
          "base_uri": "https://localhost:8080/"
        },
        "id": "dy4WfbVNxmtd",
        "outputId": "be0e1b2d-60e9-482b-b83d-55668da720a4"
      },
      "outputs": [
        {
          "data": {
            "text/plain": [
              "array([2.7922006], dtype=float32)"
            ]
          },
          "execution_count": 9,
          "metadata": {},
          "output_type": "execute_result"
        }
      ],
      "source": []
    },
    {
      "cell_type": "code",
      "execution_count": null,
      "metadata": {
        "colab": {
          "base_uri": "https://localhost:8080/"
        },
        "id": "II2bpBjv_YWF",
        "outputId": "cd432eb3-2f30-412b-89dc-9ea37f1133fc"
      },
      "outputs": [
        {
          "name": "stdout",
          "output_type": "stream",
          "text": [
            "2.4242466179999838 seconds per loop times of test function\n",
            "0.0024242466179999838 seconds per each clf.predict()\n"
          ]
        }
      ],
      "source": [
        "import timeit\n",
        "def test_nn():\n",
        "    return clf.predict(X_sample)\n",
        "\n",
        "loop = 1000\n",
        "\n",
        "result = timeit.timeit('test_nn()', globals=globals(), number=loop)\n",
        "print(result, 'seconds per loop times of test function')\n",
        "print(result/loop, 'seconds per each clf.predict()')"
      ]
    },
    {
      "cell_type": "code",
      "execution_count": null,
      "metadata": {
        "id": "FipDDonV_5qM"
      },
      "outputs": [],
      "source": [
        "import numpy as np\n",
        "\n",
        "def binomial_put(S, K, T, R, div, sig, n):\n",
        "    \n",
        "    h = T/n\n",
        "    Rinv = np.exp(-R*h)\n",
        "    a = np.exp((R-div)*h)\n",
        "    b2 = (a**2)*(np.exp(h*sig**2)-1)\n",
        "    tmp = a**2 + b2 + 1\n",
        "    u = (tmp + (tmp**2 - 4*a**2)**0.5)/(2*a)\n",
        "    d = 1/u\n",
        "    p = (a-d)/(u-d)\n",
        "    q = 1-p\n",
        "    pp = Rinv*p\n",
        "    qq = Rinv*q\n",
        "    x = 2*n + 1\n",
        "    \n",
        "    s = np.zeros(x)\n",
        "    s[n] = S\n",
        "    \n",
        "    for j in range(1,n+1):\n",
        "        s[n+j] = s[n-1+j]*u\n",
        "        s[n-j] = s[n+1-j]*d\n",
        "        \n",
        "    v = np.zeros(x)\n",
        "    \n",
        "    for j in range(1,x+2,2):\n",
        "        v[j-1] = max(K-s[j-1],0)\n",
        "        \n",
        "    for i in range(n-1,0,-1):\n",
        "        for j in range(-i,i+2,2):\n",
        "            j1 = j+n+1\n",
        "            v[j1-1] = max(K-s[j1-1],pp*v[j1]+qq*v[j1-2])\n",
        "    \n",
        "    y=pp*v[n+1]+qq*v[n-1]\n",
        "    \n",
        "    return y"
      ]
    },
    {
      "cell_type": "code",
      "execution_count": null,
      "metadata": {
        "id": "H5y8Aw8vH3eF"
      },
      "outputs": [],
      "source": [
        "S = 71.016737\n",
        "K = 100.0\n",
        "T = 2.136379\n",
        "R = 0.024927\n",
        "div = 0.0\n",
        "sig = 0.216758\n",
        "n=250\n",
        "\n",
        "\n",
        "result = binomial_put(S, K, T, R, div, sig, n)\n"
      ]
    },
    {
      "cell_type": "code",
      "execution_count": null,
      "metadata": {
        "colab": {
          "base_uri": "https://localhost:8080/"
        },
        "id": "AtCEIeyXB3nq",
        "outputId": "9048d441-0ccd-4f41-b343-7612a8bd9aec"
      },
      "outputs": [
        {
          "name": "stdout",
          "output_type": "stream",
          "text": [
            "41.63978371899998 seconds per loop times of test function\n",
            "0.04163978371899998 seconds per each binomial_put\n"
          ]
        }
      ],
      "source": [
        "def test_bt():\n",
        "    return binomial_put(S, K, T, R, div, sig, n)\n",
        "\n",
        "loop = 1000\n",
        "\n",
        "result = timeit.timeit('test_bt()', globals=globals(), number=loop)\n",
        "print(result, 'seconds per loop times of test function')\n",
        "print(result/loop, 'seconds per each binomial_put')"
      ]
    },
    {
      "cell_type": "code",
      "execution_count": null,
      "metadata": {
        "id": "1b6_O3MmHq8S"
      },
      "outputs": [],
      "source": []
    }
  ],
  "metadata": {
    "colab": {
      "collapsed_sections": [],
      "include_colab_link": true,
      "name": "OptionsAnalysisPricing191021.ipynb",
      "provenance": []
    },
    "kernelspec": {
      "display_name": "Python 3",
      "name": "python3"
    },
    "language_info": {
      "codemirror_mode": {
        "name": "ipython",
        "version": 3
      },
      "file_extension": ".py",
      "mimetype": "text/x-python",
      "name": "python",
      "nbconvert_exporter": "python",
      "pygments_lexer": "ipython3",
      "version": "3.6.10"
    }
  },
  "nbformat": 4,
  "nbformat_minor": 0
}
