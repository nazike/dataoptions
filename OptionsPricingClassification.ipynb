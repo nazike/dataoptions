{
  "cells": [
    {
      "cell_type": "markdown",
      "metadata": {
        "colab_type": "text",
        "id": "view-in-github"
      },
      "source": [
        "<a href=\"https://colab.research.google.com/github/nazike/dataoptions/blob/main/OptionsAnalysisPricing191021.ipynb\" target=\"_parent\"><img src=\"https://colab.research.google.com/assets/colab-badge.svg\" alt=\"Open In Colab\"/></a>"
      ]
    },
    {
      "cell_type": "code",
      "execution_count": 3,
      "metadata": {
        "colab": {
          "base_uri": "https://localhost:8080/"
        },
        "id": "WjnZrXLwyPNI",
        "outputId": "84d36e95-20b2-4da8-9f75-5a45a4f91895"
      },
      "outputs": [],
      "source": [
        "import warnings\n",
        "warnings.filterwarnings('ignore')\n",
        "import pandas as pd\n",
        "import numpy as np\n",
        "from sklearn.model_selection import train_test_split"
      ]
    },
    {
      "cell_type": "code",
      "execution_count": 4,
      "metadata": {},
      "outputs": [],
      "source": [
        "#read file from the github repo\n",
        "columns = ['asset_price', 'maturity', 'rate', 'div', 'ivol', 'eu_price', 'am_price', 'lower_bound', 'upper_bound', 'normalized_am_price'] # define the columns\n",
        "df = pd.read_csv('/Users/nazymazimbayev/Documents/git-projects/dataoptions/V3.csv')\n",
        "#merge two dataframes\n",
        "df.columns = columns"
      ]
    },
    {
      "cell_type": "code",
      "execution_count": 5,
      "metadata": {
        "id": "XrBG0oBrsUAV"
      },
      "outputs": [],
      "source": [
        "# Read the data\n",
        "X_full = df.copy()\n",
        "X_full.columns = columns\n",
        "# Remove rows with missing target, separate target from predictors\n",
        "X_full.dropna(axis=0, subset=['normalized_am_price'], inplace=True)"
      ]
    },
    {
      "cell_type": "code",
      "execution_count": 6,
      "metadata": {},
      "outputs": [],
      "source": [
        "# Creating target column as a [0,1]\n",
        "X_full['target']=np.round(X_full['normalized_am_price'],0)\n",
        "y = X_full.target\n",
        "y_amer = X_full['am_price']\n",
        "\n",
        "# Dropping data we don't need for training\n",
        "X_full.drop(['target'], axis=1, inplace=True)\n",
        "X_full.drop(['am_price'], axis=1, inplace=True)\n",
        "X_full.drop(['normalized_am_price'], axis=1, inplace=True)"
      ]
    },
    {
      "cell_type": "code",
      "execution_count": 7,
      "metadata": {},
      "outputs": [],
      "source": [
        "# Break off validation set from training data\n",
        "X_train_full, X_valid_full, y_train, y_valid = train_test_split(X_full, y, \n",
        "                                                                train_size=0.8, test_size=0.2,\n",
        "                                                                random_state=0)\n",
        "\n",
        "# Select categorical columns with relatively low cardinality \n",
        "categorical_cols = [cname for cname in X_train_full.columns if\n",
        "                    X_train_full[cname].nunique() < 10 and \n",
        "                    X_train_full[cname].dtype == \"object\"]\n",
        "\n",
        "# Select numerical columns\n",
        "numerical_cols = [cname for cname in X_train_full.columns if \n",
        "                X_train_full[cname].dtype in ['int64', 'float64']]\n",
        "\n",
        "# Keep selected columns only\n",
        "my_cols = categorical_cols + numerical_cols\n",
        "X_train = X_train_full[my_cols].copy()\n",
        "X_valid = X_valid_full[my_cols].copy()"
      ]
    },
    {
      "cell_type": "code",
      "execution_count": 8,
      "metadata": {
        "colab": {
          "base_uri": "https://localhost:8080/",
          "height": 204
        },
        "id": "q2_WDvg8yNKb",
        "outputId": "d356a579-9eaf-4975-f255-b19fa2ff9d5e"
      },
      "outputs": [
        {
          "data": {
            "text/html": [
              "<div>\n",
              "<style scoped>\n",
              "    .dataframe tbody tr th:only-of-type {\n",
              "        vertical-align: middle;\n",
              "    }\n",
              "\n",
              "    .dataframe tbody tr th {\n",
              "        vertical-align: top;\n",
              "    }\n",
              "\n",
              "    .dataframe thead th {\n",
              "        text-align: right;\n",
              "    }\n",
              "</style>\n",
              "<table border=\"1\" class=\"dataframe\">\n",
              "  <thead>\n",
              "    <tr style=\"text-align: right;\">\n",
              "      <th></th>\n",
              "      <th>asset_price</th>\n",
              "      <th>maturity</th>\n",
              "      <th>rate</th>\n",
              "      <th>div</th>\n",
              "      <th>ivol</th>\n",
              "      <th>eu_price</th>\n",
              "      <th>lower_bound</th>\n",
              "      <th>upper_bound</th>\n",
              "    </tr>\n",
              "  </thead>\n",
              "  <tbody>\n",
              "    <tr>\n",
              "      <th>count</th>\n",
              "      <td>100226.000000</td>\n",
              "      <td>100226.000000</td>\n",
              "      <td>100226.000000</td>\n",
              "      <td>1.002260e+05</td>\n",
              "      <td>100226.000000</td>\n",
              "      <td>100226.000000</td>\n",
              "      <td>100226.000000</td>\n",
              "      <td>100226.000000</td>\n",
              "    </tr>\n",
              "    <tr>\n",
              "      <th>mean</th>\n",
              "      <td>98.156193</td>\n",
              "      <td>1.212714</td>\n",
              "      <td>0.034840</td>\n",
              "      <td>3.518738e-02</td>\n",
              "      <td>0.340181</td>\n",
              "      <td>15.496518</td>\n",
              "      <td>15.895336</td>\n",
              "      <td>15.967396</td>\n",
              "    </tr>\n",
              "    <tr>\n",
              "      <th>std</th>\n",
              "      <td>16.862843</td>\n",
              "      <td>1.255173</td>\n",
              "      <td>0.024512</td>\n",
              "      <td>2.467220e-02</td>\n",
              "      <td>0.156052</td>\n",
              "      <td>10.416161</td>\n",
              "      <td>10.626516</td>\n",
              "      <td>10.668001</td>\n",
              "    </tr>\n",
              "    <tr>\n",
              "      <th>min</th>\n",
              "      <td>70.000660</td>\n",
              "      <td>0.100010</td>\n",
              "      <td>0.000001</td>\n",
              "      <td>5.427117e-07</td>\n",
              "      <td>0.000015</td>\n",
              "      <td>0.000000</td>\n",
              "      <td>0.484509</td>\n",
              "      <td>0.500170</td>\n",
              "    </tr>\n",
              "    <tr>\n",
              "      <th>25%</th>\n",
              "      <td>83.683658</td>\n",
              "      <td>0.423390</td>\n",
              "      <td>0.015599</td>\n",
              "      <td>1.581464e-02</td>\n",
              "      <td>0.214289</td>\n",
              "      <td>6.684839</td>\n",
              "      <td>6.870645</td>\n",
              "      <td>6.908132</td>\n",
              "    </tr>\n",
              "    <tr>\n",
              "      <th>50%</th>\n",
              "      <td>97.392227</td>\n",
              "      <td>0.725215</td>\n",
              "      <td>0.031126</td>\n",
              "      <td>3.149386e-02</td>\n",
              "      <td>0.346146</td>\n",
              "      <td>14.217318</td>\n",
              "      <td>14.630224</td>\n",
              "      <td>14.698572</td>\n",
              "    </tr>\n",
              "    <tr>\n",
              "      <th>75%</th>\n",
              "      <td>112.166268</td>\n",
              "      <td>1.238937</td>\n",
              "      <td>0.046696</td>\n",
              "      <td>4.701458e-02</td>\n",
              "      <td>0.473961</td>\n",
              "      <td>23.100870</td>\n",
              "      <td>23.813362</td>\n",
              "      <td>23.928190</td>\n",
              "    </tr>\n",
              "    <tr>\n",
              "      <th>max</th>\n",
              "      <td>129.999578</td>\n",
              "      <td>4.999891</td>\n",
              "      <td>0.099998</td>\n",
              "      <td>9.999347e-02</td>\n",
              "      <td>0.599988</td>\n",
              "      <td>63.146201</td>\n",
              "      <td>63.146202</td>\n",
              "      <td>63.146473</td>\n",
              "    </tr>\n",
              "  </tbody>\n",
              "</table>\n",
              "</div>"
            ],
            "text/plain": [
              "         asset_price       maturity           rate           div  \\\n",
              "count  100226.000000  100226.000000  100226.000000  1.002260e+05   \n",
              "mean       98.156193       1.212714       0.034840  3.518738e-02   \n",
              "std        16.862843       1.255173       0.024512  2.467220e-02   \n",
              "min        70.000660       0.100010       0.000001  5.427117e-07   \n",
              "25%        83.683658       0.423390       0.015599  1.581464e-02   \n",
              "50%        97.392227       0.725215       0.031126  3.149386e-02   \n",
              "75%       112.166268       1.238937       0.046696  4.701458e-02   \n",
              "max       129.999578       4.999891       0.099998  9.999347e-02   \n",
              "\n",
              "                ivol       eu_price    lower_bound    upper_bound  \n",
              "count  100226.000000  100226.000000  100226.000000  100226.000000  \n",
              "mean        0.340181      15.496518      15.895336      15.967396  \n",
              "std         0.156052      10.416161      10.626516      10.668001  \n",
              "min         0.000015       0.000000       0.484509       0.500170  \n",
              "25%         0.214289       6.684839       6.870645       6.908132  \n",
              "50%         0.346146      14.217318      14.630224      14.698572  \n",
              "75%         0.473961      23.100870      23.813362      23.928190  \n",
              "max         0.599988      63.146201      63.146202      63.146473  "
            ]
          },
          "execution_count": 8,
          "metadata": {},
          "output_type": "execute_result"
        }
      ],
      "source": [
        "X_full.describe()"
      ]
    },
    {
      "cell_type": "code",
      "execution_count": 11,
      "metadata": {
        "colab": {
          "base_uri": "https://localhost:8080/"
        },
        "id": "HAZCNY2syOAi",
        "outputId": "4796181a-b9bb-4946-b293-7aa3e4954e4d"
      },
      "outputs": [
        {
          "name": "stdout",
          "output_type": "stream",
          "text": [
            "[12:03:43] WARNING: ../src/learner.cc:1115: Starting in XGBoost 1.3.0, the default evaluation metric used with the objective 'binary:logistic' was changed from 'error' to 'logloss'. Explicitly set eval_metric if you'd like to restore the old behavior.\n"
          ]
        },
        {
          "data": {
            "text/plain": [
              "Pipeline(steps=[('preprocessor',\n",
              "                 ColumnTransformer(transformers=[('num',\n",
              "                                                  SimpleImputer(strategy='constant'),\n",
              "                                                  ['asset_price', 'maturity',\n",
              "                                                   'rate', 'div', 'ivol',\n",
              "                                                   'eu_price', 'lower_bound',\n",
              "                                                   'upper_bound']),\n",
              "                                                 ('cat',\n",
              "                                                  Pipeline(steps=[('imputer',\n",
              "                                                                   SimpleImputer(strategy='most_frequent')),\n",
              "                                                                  ('onehot',\n",
              "                                                                   OneHotEncoder(handle_unknown='ignore'))]),\n",
              "                                                  [])])),\n",
              "                ('model',\n",
              "                 XGBClassifier(...\n",
              "                               gamma=0, gpu_id=-1, importance_type=None,\n",
              "                               interaction_constraints='', learning_rate=0.05,\n",
              "                               max_delta_step=0, max_depth=6,\n",
              "                               min_child_weight=1, missing=nan,\n",
              "                               monotone_constraints='()', n_estimators=10000,\n",
              "                               n_jobs=4, nthread=4, num_parallel_tree=1,\n",
              "                               predictor='auto', random_state=27, reg_alpha=0,\n",
              "                               reg_lambda=1, scale_pos_weight=1, seed=27,\n",
              "                               subsample=0.8, tree_method='exact',\n",
              "                               validate_parameters=1, verbosity=None))])"
            ]
          },
          "execution_count": 11,
          "metadata": {},
          "output_type": "execute_result"
        }
      ],
      "source": [
        "from sklearn.compose import ColumnTransformer\n",
        "from sklearn.pipeline import Pipeline\n",
        "from sklearn.impute import SimpleImputer\n",
        "from sklearn.preprocessing import OneHotEncoder\n",
        "from sklearn.metrics import mean_absolute_error\n",
        "from sklearn.metrics import mean_squared_error\n",
        "from xgboost import XGBClassifier\n",
        "\n",
        "# Preprocessing for numerical data\n",
        "numerical_transformer = SimpleImputer(strategy='constant')\n",
        "\n",
        "# Preprocessing for categorical data\n",
        "categorical_transformer = Pipeline(steps=[\n",
        "    ('imputer', SimpleImputer(strategy='most_frequent')),\n",
        "    ('onehot', OneHotEncoder(handle_unknown='ignore'))\n",
        "])\n",
        "\n",
        "# Bundle preprocessing for numerical and categorical data\n",
        "preprocessor = ColumnTransformer(\n",
        "    transformers=[\n",
        "        ('num', numerical_transformer, numerical_cols),\n",
        "        ('cat', categorical_transformer, categorical_cols)\n",
        "    ])\n",
        "\n",
        "# Define model\n",
        "model = XGBClassifier(n_estimators=10000, learning_rate=0.05, max_depth=6, min_child_weight=1, gamma=0, subsample=0.8, colsample_bytree=0.8, objective='binary:logistic', nthread=4, scale_pos_weight=1, seed=27)\n",
        "\n",
        "# Bundle preprocessing and modeling code in a pipeline\n",
        "clf = Pipeline(steps=[('preprocessor', preprocessor),\n",
        "                      ('model', model)\n",
        "                     ])\n",
        "\n",
        "# Preprocessing of training data, fit model \n",
        "clf.fit(X_train, y_train)"
      ]
    },
    {
      "cell_type": "code",
      "execution_count": 12,
      "metadata": {},
      "outputs": [
        {
          "name": "stdout",
          "output_type": "stream",
          "text": [
            "MSE 0.10166616781402774\n",
            "MAE: 0.10166616781402774\n"
          ]
        }
      ],
      "source": [
        "# Preprocessing of validation data, get predictions\n",
        "preds = clf.predict(X_valid)\n",
        "\n",
        "print('MSE',mean_squared_error(y_valid, preds))\n",
        "\n",
        "print('MAE:', mean_absolute_error(y_valid, preds))"
      ]
    },
    {
      "cell_type": "code",
      "execution_count": 14,
      "metadata": {},
      "outputs": [
        {
          "data": {
            "text/plain": [
              "array([0., 1., 1., ..., 1., 0., 1.])"
            ]
          },
          "execution_count": 14,
          "metadata": {},
          "output_type": "execute_result"
        }
      ],
      "source": [
        "preds_full=clf.predict(X_full)\n",
        "preds_full"
      ]
    },
    {
      "cell_type": "code",
      "execution_count": 15,
      "metadata": {},
      "outputs": [],
      "source": [
        "#create a dataframe with the predicted values and write it to csv   \n",
        "predicted_df=df.copy()\n",
        "predicted_df.drop(['normalized_am_price'], axis=1, inplace=True)\n",
        "predicted_df['predicted_target']=preds_full\n",
        "predicted_df['predicted_am_price']=predicted_df['predicted_target']*(predicted_df['upper_bound']-predicted_df['lower_bound'])+predicted_df['lower_bound']\n",
        "predicted_df.to_csv('/Users/nazymazimbayev/Documents/git-projects/dataoptions/class_full_predicted_dataoptions.csv', index=False)"
      ]
    },
    {
      "cell_type": "code",
      "execution_count": 16,
      "metadata": {},
      "outputs": [
        {
          "name": "stdout",
          "output_type": "stream",
          "text": [
            "MSE 0.0004104461427478377\n"
          ]
        }
      ],
      "source": [
        "print('MSE',mean_squared_error(predicted_df['am_price'], predicted_df['predicted_am_price']))"
      ]
    },
    {
      "cell_type": "code",
      "execution_count": null,
      "metadata": {
        "colab": {
          "base_uri": "https://localhost:8080/"
        },
        "id": "II2bpBjv_YWF",
        "outputId": "cd432eb3-2f30-412b-89dc-9ea37f1133fc"
      },
      "outputs": [
        {
          "name": "stdout",
          "output_type": "stream",
          "text": [
            "3.019512332999966 seconds per loop times of test function\n",
            "0.003019512332999966 seconds per each clf.predict()\n"
          ]
        }
      ],
      "source": [
        "#calculation of the neural net time \n",
        "X_sample = X_full.iloc[0:1].copy()\n",
        "\n",
        "\n",
        "import timeit\n",
        "def test_nn():\n",
        "    return clf.predict(X_sample)\n",
        "\n",
        "loop = 1000\n",
        "\n",
        "result_nn = timeit.timeit('test_nn()', globals=globals(), number=loop)\n",
        "print(result_nn, 'seconds per loop times of test function')\n",
        "print(result_nn/loop, 'seconds per each clf.predict()')"
      ]
    },
    {
      "cell_type": "code",
      "execution_count": null,
      "metadata": {
        "id": "FipDDonV_5qM"
      },
      "outputs": [],
      "source": [
        "#function to calculate binomial option price\n",
        "\n",
        "import numpy as np\n",
        "\n",
        "def binomial_put(S, K, T, R, div, sig, n):\n",
        "    \n",
        "    h = T/n\n",
        "    Rinv = np.exp(-R*h)\n",
        "    a = np.exp((R-div)*h)\n",
        "    b2 = (a**2)*(np.exp(h*sig**2)-1)\n",
        "    tmp = a**2 + b2 + 1\n",
        "    u = (tmp + (tmp**2 - 4*a**2)**0.5)/(2*a)\n",
        "    d = 1/u\n",
        "    p = (a-d)/(u-d)\n",
        "    q = 1-p\n",
        "    pp = Rinv*p\n",
        "    qq = Rinv*q\n",
        "    x = 2*n + 1\n",
        "    \n",
        "    s = np.zeros(x)\n",
        "    s[n] = S\n",
        "    \n",
        "    for j in range(1,n+1):\n",
        "        s[n+j] = s[n-1+j]*u\n",
        "        s[n-j] = s[n+1-j]*d\n",
        "        \n",
        "    v = np.zeros(x)\n",
        "    \n",
        "    for j in range(1,x+2,2):\n",
        "        v[j-1] = max(K-s[j-1],0)\n",
        "        \n",
        "    for i in range(n-1,0,-1):\n",
        "        for j in range(-i,i+2,2):\n",
        "            j1 = j+n+1\n",
        "            v[j1-1] = max(K-s[j1-1],pp*v[j1]+qq*v[j1-2])\n",
        "    \n",
        "    y=pp*v[n+1]+qq*v[n-1]\n",
        "    \n",
        "    return y"
      ]
    },
    {
      "cell_type": "code",
      "execution_count": null,
      "metadata": {
        "id": "H5y8Aw8vH3eF"
      },
      "outputs": [],
      "source": [
        "#parameters for the binomial put option price calcualtion , similar to X_full.iloc[0:1]\n",
        "\n",
        "S = 91.063192\n",
        "K = 100.0\n",
        "T = 0.64276\n",
        "R = 0.073981\t\n",
        "div = 0.069325\t\n",
        "sig = 0.312864\n",
        "n=250\n",
        "\n",
        "\n",
        "result = binomial_put(S, K, T, R, div, sig, n)\n"
      ]
    },
    {
      "cell_type": "code",
      "execution_count": null,
      "metadata": {
        "colab": {
          "base_uri": "https://localhost:8080/"
        },
        "id": "AtCEIeyXB3nq",
        "outputId": "9048d441-0ccd-4f41-b343-7612a8bd9aec"
      },
      "outputs": [
        {
          "name": "stdout",
          "output_type": "stream",
          "text": [
            "21.317060082999888 seconds per loop times of test function\n",
            "0.021317060082999887 seconds per each binomial_put\n"
          ]
        }
      ],
      "source": [
        "#binomial option price calcualtion time\n",
        "def test_bt():\n",
        "    return binomial_put(S, K, T, R, div, sig, n)\n",
        "\n",
        "loop = 1000\n",
        "\n",
        "result_bt = timeit.timeit('test_bt()', globals=globals(), number=loop)\n",
        "print(result_bt, 'seconds per loop times of test function')\n",
        "print(result_bt/loop, 'seconds per each binomial_put')"
      ]
    },
    {
      "cell_type": "code",
      "execution_count": null,
      "metadata": {
        "id": "1b6_O3MmHq8S"
      },
      "outputs": [
        {
          "ename": "NameError",
          "evalue": "name 'result_bt' is not defined",
          "output_type": "error",
          "traceback": [
            "\u001b[0;31m---------------------------------------------------------------------------\u001b[0m",
            "\u001b[0;31mNameError\u001b[0m                                 Traceback (most recent call last)",
            "\u001b[0;32m/var/folders/x2/6278k45x7zv7f2zqhyx2ktf80000gn/T/ipykernel_3540/3490869658.py\u001b[0m in \u001b[0;36m<module>\u001b[0;34m\u001b[0m\n\u001b[1;32m      1\u001b[0m \u001b[0;31m#result, which shows how much faster the neural net is than the binomial tree\u001b[0m\u001b[0;34m\u001b[0m\u001b[0;34m\u001b[0m\u001b[0m\n\u001b[0;32m----> 2\u001b[0;31m \u001b[0mprint\u001b[0m\u001b[0;34m(\u001b[0m\u001b[0mresult_bt\u001b[0m\u001b[0;34m/\u001b[0m\u001b[0mresult_nn\u001b[0m\u001b[0;34m,\u001b[0m \u001b[0;34m'times nn faster than bt'\u001b[0m\u001b[0;34m)\u001b[0m\u001b[0;34m\u001b[0m\u001b[0;34m\u001b[0m\u001b[0m\n\u001b[0m",
            "\u001b[0;31mNameError\u001b[0m: name 'result_bt' is not defined"
          ]
        }
      ],
      "source": [
        "#result, which shows how much faster the neural net is than the binomial tree\n",
        "print(result_bt/result_nn, 'times nn faster than bt')"
      ]
    },
    {
      "cell_type": "code",
      "execution_count": 20,
      "metadata": {},
      "outputs": [
        {
          "data": {
            "text/plain": [
              "1276"
            ]
          },
          "execution_count": 20,
          "metadata": {},
          "output_type": "execute_result"
        }
      ],
      "source": []
    },
    {
      "cell_type": "code",
      "execution_count": null,
      "metadata": {},
      "outputs": [],
      "source": []
    }
  ],
  "metadata": {
    "colab": {
      "collapsed_sections": [],
      "include_colab_link": true,
      "name": "OptionsAnalysisPricing191021.ipynb",
      "provenance": []
    },
    "kernelspec": {
      "display_name": "Python 3",
      "name": "python3"
    },
    "language_info": {
      "codemirror_mode": {
        "name": "ipython",
        "version": 3
      },
      "file_extension": ".py",
      "mimetype": "text/x-python",
      "name": "python",
      "nbconvert_exporter": "python",
      "pygments_lexer": "ipython3",
      "version": "3.9.7"
    }
  },
  "nbformat": 4,
  "nbformat_minor": 0
}
