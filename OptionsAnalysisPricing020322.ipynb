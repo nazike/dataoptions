{
  "cells": [
    {
      "cell_type": "markdown",
      "metadata": {
        "colab_type": "text",
        "id": "view-in-github"
      },
      "source": [
        "<a href=\"https://colab.research.google.com/github/nazike/dataoptions/blob/main/OptionsAnalysisPricing191021.ipynb\" target=\"_parent\"><img src=\"https://colab.research.google.com/assets/colab-badge.svg\" alt=\"Open In Colab\"/></a>"
      ]
    },
    {
      "cell_type": "code",
      "execution_count": 1,
      "metadata": {
        "colab": {
          "base_uri": "https://localhost:8080/"
        },
        "id": "WjnZrXLwyPNI",
        "outputId": "84d36e95-20b2-4da8-9f75-5a45a4f91895"
      },
      "outputs": [],
      "source": [
        "import warnings\n",
        "warnings.filterwarnings('ignore')\n",
        "import pandas as pd\n",
        "import numpy as np\n",
        "from sklearn.model_selection import train_test_split"
      ]
    },
    {
      "cell_type": "code",
      "execution_count": 2,
      "metadata": {},
      "outputs": [
        {
          "data": {
            "text/html": [
              "<div>\n",
              "<style scoped>\n",
              "    .dataframe tbody tr th:only-of-type {\n",
              "        vertical-align: middle;\n",
              "    }\n",
              "\n",
              "    .dataframe tbody tr th {\n",
              "        vertical-align: top;\n",
              "    }\n",
              "\n",
              "    .dataframe thead th {\n",
              "        text-align: right;\n",
              "    }\n",
              "</style>\n",
              "<table border=\"1\" class=\"dataframe\">\n",
              "  <thead>\n",
              "    <tr style=\"text-align: right;\">\n",
              "      <th></th>\n",
              "      <th>82.8111637168575</th>\n",
              "      <th>0.842681430911326</th>\n",
              "      <th>0.031938881239426</th>\n",
              "      <th>0.0456901041648581</th>\n",
              "      <th>0.17690706531888</th>\n",
              "      <th>18.4094117640506</th>\n",
              "      <th>18.4210377107872</th>\n",
              "    </tr>\n",
              "  </thead>\n",
              "  <tbody>\n",
              "    <tr>\n",
              "      <th>0</th>\n",
              "      <td>113.935171</td>\n",
              "      <td>0.285741</td>\n",
              "      <td>0.008467</td>\n",
              "      <td>0.023575</td>\n",
              "      <td>0.538127</td>\n",
              "      <td>6.612110</td>\n",
              "      <td>6.612107</td>\n",
              "    </tr>\n",
              "    <tr>\n",
              "      <th>1</th>\n",
              "      <td>98.305405</td>\n",
              "      <td>0.813916</td>\n",
              "      <td>0.019547</td>\n",
              "      <td>0.018027</td>\n",
              "      <td>0.048863</td>\n",
              "      <td>2.601042</td>\n",
              "      <td>2.626842</td>\n",
              "    </tr>\n",
              "    <tr>\n",
              "      <th>2</th>\n",
              "      <td>109.189731</td>\n",
              "      <td>0.713558</td>\n",
              "      <td>0.022951</td>\n",
              "      <td>0.015280</td>\n",
              "      <td>0.303538</td>\n",
              "      <td>6.397872</td>\n",
              "      <td>6.430745</td>\n",
              "    </tr>\n",
              "    <tr>\n",
              "      <th>3</th>\n",
              "      <td>83.402084</td>\n",
              "      <td>2.879962</td>\n",
              "      <td>0.042272</td>\n",
              "      <td>0.058719</td>\n",
              "      <td>0.163288</td>\n",
              "      <td>20.609465</td>\n",
              "      <td>20.903553</td>\n",
              "    </tr>\n",
              "    <tr>\n",
              "      <th>4</th>\n",
              "      <td>127.549831</td>\n",
              "      <td>0.907992</td>\n",
              "      <td>0.026664</td>\n",
              "      <td>0.017533</td>\n",
              "      <td>0.562713</td>\n",
              "      <td>12.093558</td>\n",
              "      <td>12.156191</td>\n",
              "    </tr>\n",
              "  </tbody>\n",
              "</table>\n",
              "</div>"
            ],
            "text/plain": [
              "   82.8111637168575  0.842681430911326  0.031938881239426  0.0456901041648581  \\\n",
              "0        113.935171           0.285741           0.008467            0.023575   \n",
              "1         98.305405           0.813916           0.019547            0.018027   \n",
              "2        109.189731           0.713558           0.022951            0.015280   \n",
              "3         83.402084           2.879962           0.042272            0.058719   \n",
              "4        127.549831           0.907992           0.026664            0.017533   \n",
              "\n",
              "   0.17690706531888  18.4094117640506  18.4210377107872  \n",
              "0          0.538127          6.612110          6.612107  \n",
              "1          0.048863          2.601042          2.626842  \n",
              "2          0.303538          6.397872          6.430745  \n",
              "3          0.163288         20.609465         20.903553  \n",
              "4          0.562713         12.093558         12.156191  "
            ]
          },
          "execution_count": 2,
          "metadata": {},
          "output_type": "execute_result"
        }
      ],
      "source": [
        "#read file from the github repo\n",
        "columns = ['asset_price', 'maturity', 'rate', 'div', 'ivol', 'eu_price', 'am_price'] \n",
        "df = pd.read_csv('/Users/nazymazimbayev/Documents/git-projects/dataoptions/V2.csv')\n",
        "df.head()"
      ]
    },
    {
      "cell_type": "code",
      "execution_count": 3,
      "metadata": {},
      "outputs": [],
      "source": [
        "#merge two dataframes\n",
        "df.columns = columns"
      ]
    },
    {
      "cell_type": "code",
      "execution_count": 4,
      "metadata": {},
      "outputs": [
        {
          "data": {
            "text/html": [
              "<div>\n",
              "<style scoped>\n",
              "    .dataframe tbody tr th:only-of-type {\n",
              "        vertical-align: middle;\n",
              "    }\n",
              "\n",
              "    .dataframe tbody tr th {\n",
              "        vertical-align: top;\n",
              "    }\n",
              "\n",
              "    .dataframe thead th {\n",
              "        text-align: right;\n",
              "    }\n",
              "</style>\n",
              "<table border=\"1\" class=\"dataframe\">\n",
              "  <thead>\n",
              "    <tr style=\"text-align: right;\">\n",
              "      <th></th>\n",
              "      <th>asset_price</th>\n",
              "      <th>maturity</th>\n",
              "      <th>rate</th>\n",
              "      <th>div</th>\n",
              "      <th>ivol</th>\n",
              "      <th>eu_price</th>\n",
              "      <th>am_price</th>\n",
              "    </tr>\n",
              "  </thead>\n",
              "  <tbody>\n",
              "    <tr>\n",
              "      <th>count</th>\n",
              "      <td>100455.000000</td>\n",
              "      <td>100455.000000</td>\n",
              "      <td>1.004550e+05</td>\n",
              "      <td>1.004550e+05</td>\n",
              "      <td>100455.000000</td>\n",
              "      <td>100455.000000</td>\n",
              "      <td>100455.000000</td>\n",
              "    </tr>\n",
              "    <tr>\n",
              "      <th>mean</th>\n",
              "      <td>98.141144</td>\n",
              "      <td>1.214371</td>\n",
              "      <td>3.479940e-02</td>\n",
              "      <td>3.525762e-02</td>\n",
              "      <td>0.339526</td>\n",
              "      <td>15.501890</td>\n",
              "      <td>15.961782</td>\n",
              "    </tr>\n",
              "    <tr>\n",
              "      <th>std</th>\n",
              "      <td>16.859969</td>\n",
              "      <td>1.256565</td>\n",
              "      <td>2.450852e-02</td>\n",
              "      <td>2.471843e-02</td>\n",
              "      <td>0.156516</td>\n",
              "      <td>10.418466</td>\n",
              "      <td>10.663400</td>\n",
              "    </tr>\n",
              "    <tr>\n",
              "      <th>min</th>\n",
              "      <td>70.000660</td>\n",
              "      <td>0.100010</td>\n",
              "      <td>5.427117e-07</td>\n",
              "      <td>5.427117e-07</td>\n",
              "      <td>0.000015</td>\n",
              "      <td>0.000000</td>\n",
              "      <td>0.500121</td>\n",
              "    </tr>\n",
              "    <tr>\n",
              "      <th>25%</th>\n",
              "      <td>83.673626</td>\n",
              "      <td>0.423637</td>\n",
              "      <td>1.555361e-02</td>\n",
              "      <td>1.585122e-02</td>\n",
              "      <td>0.213415</td>\n",
              "      <td>6.687584</td>\n",
              "      <td>6.905906</td>\n",
              "    </tr>\n",
              "    <tr>\n",
              "      <th>50%</th>\n",
              "      <td>97.373486</td>\n",
              "      <td>0.725755</td>\n",
              "      <td>3.107879e-02</td>\n",
              "      <td>3.154336e-02</td>\n",
              "      <td>0.345592</td>\n",
              "      <td>14.226921</td>\n",
              "      <td>14.696291</td>\n",
              "    </tr>\n",
              "    <tr>\n",
              "      <th>75%</th>\n",
              "      <td>112.142653</td>\n",
              "      <td>1.246729</td>\n",
              "      <td>4.666650e-02</td>\n",
              "      <td>4.707699e-02</td>\n",
              "      <td>0.473691</td>\n",
              "      <td>23.108803</td>\n",
              "      <td>23.921224</td>\n",
              "    </tr>\n",
              "    <tr>\n",
              "      <th>max</th>\n",
              "      <td>129.999578</td>\n",
              "      <td>4.999891</td>\n",
              "      <td>9.999842e-02</td>\n",
              "      <td>9.999347e-02</td>\n",
              "      <td>0.599988</td>\n",
              "      <td>63.146201</td>\n",
              "      <td>63.146473</td>\n",
              "    </tr>\n",
              "  </tbody>\n",
              "</table>\n",
              "</div>"
            ],
            "text/plain": [
              "         asset_price       maturity          rate           div  \\\n",
              "count  100455.000000  100455.000000  1.004550e+05  1.004550e+05   \n",
              "mean       98.141144       1.214371  3.479940e-02  3.525762e-02   \n",
              "std        16.859969       1.256565  2.450852e-02  2.471843e-02   \n",
              "min        70.000660       0.100010  5.427117e-07  5.427117e-07   \n",
              "25%        83.673626       0.423637  1.555361e-02  1.585122e-02   \n",
              "50%        97.373486       0.725755  3.107879e-02  3.154336e-02   \n",
              "75%       112.142653       1.246729  4.666650e-02  4.707699e-02   \n",
              "max       129.999578       4.999891  9.999842e-02  9.999347e-02   \n",
              "\n",
              "                ivol       eu_price       am_price  \n",
              "count  100455.000000  100455.000000  100455.000000  \n",
              "mean        0.339526      15.501890      15.961782  \n",
              "std         0.156516      10.418466      10.663400  \n",
              "min         0.000015       0.000000       0.500121  \n",
              "25%         0.213415       6.687584       6.905906  \n",
              "50%         0.345592      14.226921      14.696291  \n",
              "75%         0.473691      23.108803      23.921224  \n",
              "max         0.599988      63.146201      63.146473  "
            ]
          },
          "execution_count": 4,
          "metadata": {},
          "output_type": "execute_result"
        }
      ],
      "source": [
        "df.describe()"
      ]
    },
    {
      "cell_type": "code",
      "execution_count": 8,
      "metadata": {
        "id": "XrBG0oBrsUAV"
      },
      "outputs": [],
      "source": [
        "# Read the data\n",
        "X_full = df.copy()\n",
        "columns = ['asset_price', 'maturity', 'rate', 'div', 'ivol', 'eu_price', 'am_price'] \n",
        "X_full.columns = columns\n",
        "X_full['target'] = ((X_full['am_price']-X_full['eu_price'])/X_full['am_price']).copy()\n",
        "\n",
        "# Remove rows with missing target, separate target from predictors\n",
        "X_full.dropna(axis=0, subset=['target'], inplace=True)\n",
        "y = X_full.target\n",
        "y_amer = X_full['am_price']\n",
        "X_full.drop(['am_price'], axis=1, inplace=True)\n",
        "X_full.to_csv('/Users/nazymazimbayev/Documents/git-projects/dataoptions/v2fulldata.csv', index=False)\n",
        "X_full.drop(['target'], axis=1, inplace=True)\n",
        "X_full.to_csv('/Users/nazymazimbayev/Documents/git-projects/dataoptions/v2fulldatatrain.csv', index=False)\n",
        "\n",
        "# Break off validation set from training data\n",
        "X_train_full, X_valid_full, y_train, y_valid = train_test_split(X_full, y, \n",
        "                                                                train_size=0.8, test_size=0.2,\n",
        "                                                                random_state=0)\n",
        "\n",
        "# Select categorical columns with relatively low cardinality \n",
        "categorical_cols = [cname for cname in X_train_full.columns if\n",
        "                    X_train_full[cname].nunique() < 10 and \n",
        "                    X_train_full[cname].dtype == \"object\"]\n",
        "\n",
        "# Select numerical columns\n",
        "numerical_cols = [cname for cname in X_train_full.columns if \n",
        "                X_train_full[cname].dtype in ['int64', 'float64']]\n",
        "\n",
        "# Keep selected columns only\n",
        "my_cols = categorical_cols + numerical_cols\n",
        "X_train = X_train_full[my_cols].copy()\n",
        "X_valid = X_valid_full[my_cols].copy()\n",
        "\n"
      ]
    },
    {
      "cell_type": "code",
      "execution_count": 9,
      "metadata": {
        "colab": {
          "base_uri": "https://localhost:8080/",
          "height": 204
        },
        "id": "q2_WDvg8yNKb",
        "outputId": "d356a579-9eaf-4975-f255-b19fa2ff9d5e"
      },
      "outputs": [
        {
          "data": {
            "text/plain": [
              "80364"
            ]
          },
          "execution_count": 9,
          "metadata": {},
          "output_type": "execute_result"
        }
      ],
      "source": [
        "len(X_train)"
      ]
    },
    {
      "cell_type": "code",
      "execution_count": 10,
      "metadata": {
        "colab": {
          "base_uri": "https://localhost:8080/"
        },
        "id": "HAZCNY2syOAi",
        "outputId": "4796181a-b9bb-4946-b293-7aa3e4954e4d"
      },
      "outputs": [
        {
          "data": {
            "text/plain": [
              "Pipeline(steps=[('preprocessor',\n",
              "                 ColumnTransformer(transformers=[('num',\n",
              "                                                  SimpleImputer(strategy='constant'),\n",
              "                                                  ['asset_price', 'maturity',\n",
              "                                                   'rate', 'div', 'ivol',\n",
              "                                                   'eu_price']),\n",
              "                                                 ('cat',\n",
              "                                                  Pipeline(steps=[('imputer',\n",
              "                                                                   SimpleImputer(strategy='most_frequent')),\n",
              "                                                                  ('onehot',\n",
              "                                                                   OneHotEncoder(handle_unknown='ignore'))]),\n",
              "                                                  [])])),\n",
              "                ('model',\n",
              "                 XGBRegressor(base_score=0.5, booster='gbtre...\n",
              "                              gamma=0, gpu_id=-1, importance_type=None,\n",
              "                              interaction_constraints='', learning_rate=0.05,\n",
              "                              max_delta_step=0, max_depth=6, min_child_weight=1,\n",
              "                              missing=nan, monotone_constraints='()',\n",
              "                              n_estimators=10000, n_jobs=4, num_parallel_tree=1,\n",
              "                              predictor='auto', random_state=0, reg_alpha=0,\n",
              "                              reg_lambda=1, scale_pos_weight=1, subsample=1,\n",
              "                              tree_method='exact', validate_parameters=1,\n",
              "                              verbosity=None))])"
            ]
          },
          "execution_count": 10,
          "metadata": {},
          "output_type": "execute_result"
        }
      ],
      "source": [
        "from sklearn.compose import ColumnTransformer\n",
        "from sklearn.pipeline import Pipeline\n",
        "from sklearn.impute import SimpleImputer\n",
        "from sklearn.preprocessing import OneHotEncoder\n",
        "from sklearn.ensemble import RandomForestRegressor\n",
        "from sklearn.metrics import mean_absolute_error\n",
        "from sklearn.metrics import mean_squared_error\n",
        "from xgboost import XGBRegressor\n",
        "\n",
        "# Preprocessing for numerical data\n",
        "numerical_transformer = SimpleImputer(strategy='constant')\n",
        "\n",
        "# Preprocessing for categorical data\n",
        "categorical_transformer = Pipeline(steps=[\n",
        "    ('imputer', SimpleImputer(strategy='most_frequent')),\n",
        "    ('onehot', OneHotEncoder(handle_unknown='ignore'))\n",
        "])\n",
        "\n",
        "# Bundle preprocessing for numerical and categorical data\n",
        "preprocessor = ColumnTransformer(\n",
        "    transformers=[\n",
        "        ('num', numerical_transformer, numerical_cols),\n",
        "        ('cat', categorical_transformer, categorical_cols)\n",
        "    ])\n",
        "\n",
        "# Define model\n",
        "model = XGBRegressor(n_estimators=10000, random_state=0, learning_rate=0.05, n_jobs=4)\n",
        "\n",
        "#model = XGBRegressor(learning_rate=0.05, n_estimators=10000, n_jobs=4, random_state=0, subsample=0.8)\n",
        "\n",
        "# Bundle preprocessing and modeling code in a pipeline\n",
        "clf = Pipeline(steps=[('preprocessor', preprocessor),\n",
        "                      ('model', model)\n",
        "                     ])\n",
        "\n",
        "# Preprocessing of training data, fit model \n",
        "clf.fit(X_train, y_train)\n",
        "\n"
      ]
    },
    {
      "cell_type": "code",
      "execution_count": 11,
      "metadata": {},
      "outputs": [
        {
          "name": "stdout",
          "output_type": "stream",
          "text": [
            "MSE 5.1674051223001366e-05\n",
            "MAE: 0.0023348006608320546\n"
          ]
        }
      ],
      "source": [
        "# Preprocessing of validation data, get predictions\n",
        "preds = clf.predict(X_valid)\n",
        "\n",
        "print('MSE',mean_squared_error(y_valid, preds))\n",
        "\n",
        "print('MAE:', mean_absolute_error(y_valid, preds))"
      ]
    },
    {
      "cell_type": "code",
      "execution_count": 12,
      "metadata": {},
      "outputs": [
        {
          "data": {
            "text/plain": [
              "array([ 0.0002912 ,  0.0129673 ,  0.00467295, ...,  0.11587865,\n",
              "       -0.00036417,  0.00042765], dtype=float32)"
            ]
          },
          "execution_count": 12,
          "metadata": {},
          "output_type": "execute_result"
        }
      ],
      "source": [
        "preds_full=clf.predict(X_full)\n",
        "preds_full"
      ]
    },
    {
      "cell_type": "code",
      "execution_count": 13,
      "metadata": {},
      "outputs": [],
      "source": [
        "#create a dataframe with the predicted values and write it to csv   \n",
        "predicted_df=df.copy()\n",
        "predicted_df['predicted_target']=preds_full\n",
        "predicted_df['predicted_am_price']=predicted_df['predicted_target']*predicted_df['eu_price']+predicted_df['eu_price']\n",
        "predicted_df.to_csv('/Users/nazymazimbayev/Documents/git-projects/dataoptions/modified_predicted_dataoptions.csv', index=False)"
      ]
    },
    {
      "cell_type": "code",
      "execution_count": 14,
      "metadata": {
        "colab": {
          "base_uri": "https://localhost:8080/"
        },
        "id": "II2bpBjv_YWF",
        "outputId": "cd432eb3-2f30-412b-89dc-9ea37f1133fc"
      },
      "outputs": [
        {
          "name": "stdout",
          "output_type": "stream",
          "text": [
            "1.869605125000021 seconds per loop times of test function\n",
            "0.001869605125000021 seconds per each clf.predict()\n"
          ]
        }
      ],
      "source": [
        "#calculation of the neural net time \n",
        "X_sample = X_full.iloc[0:1].copy()\n",
        "\n",
        "\n",
        "import timeit\n",
        "def test_nn():\n",
        "    return clf.predict(X_sample)\n",
        "\n",
        "loop = 1000\n",
        "\n",
        "result_nn = timeit.timeit('test_nn()', globals=globals(), number=loop)\n",
        "print(result_nn, 'seconds per loop times of test function')\n",
        "print(result_nn/loop, 'seconds per each clf.predict()')"
      ]
    },
    {
      "cell_type": "code",
      "execution_count": 15,
      "metadata": {
        "id": "FipDDonV_5qM"
      },
      "outputs": [],
      "source": [
        "#function to calculate binomial option price\n",
        "\n",
        "import numpy as np\n",
        "\n",
        "def binomial_put(S, K, T, R, div, sig, n):\n",
        "    \n",
        "    h = T/n\n",
        "    Rinv = np.exp(-R*h)\n",
        "    a = np.exp((R-div)*h)\n",
        "    b2 = (a**2)*(np.exp(h*sig**2)-1)\n",
        "    tmp = a**2 + b2 + 1\n",
        "    u = (tmp + (tmp**2 - 4*a**2)**0.5)/(2*a)\n",
        "    d = 1/u\n",
        "    p = (a-d)/(u-d)\n",
        "    q = 1-p\n",
        "    pp = Rinv*p\n",
        "    qq = Rinv*q\n",
        "    x = 2*n + 1\n",
        "    \n",
        "    s = np.zeros(x)\n",
        "    s[n] = S\n",
        "    \n",
        "    for j in range(1,n+1):\n",
        "        s[n+j] = s[n-1+j]*u\n",
        "        s[n-j] = s[n+1-j]*d\n",
        "        \n",
        "    v = np.zeros(x)\n",
        "    \n",
        "    for j in range(1,x+2,2):\n",
        "        v[j-1] = max(K-s[j-1],0)\n",
        "        \n",
        "    for i in range(n-1,0,-1):\n",
        "        for j in range(-i,i+2,2):\n",
        "            j1 = j+n+1\n",
        "            v[j1-1] = max(K-s[j1-1],pp*v[j1]+qq*v[j1-2])\n",
        "    \n",
        "    y=pp*v[n+1]+qq*v[n-1]\n",
        "    \n",
        "    return y"
      ]
    },
    {
      "cell_type": "code",
      "execution_count": 16,
      "metadata": {
        "id": "H5y8Aw8vH3eF"
      },
      "outputs": [],
      "source": [
        "#parameters for the binomial put option price calcualtion , similar to X_full.iloc[0:1]\n",
        "\n",
        "S = 91.063192\n",
        "K = 100.0\n",
        "T = 0.64276\n",
        "R = 0.073981\t\n",
        "div = 0.069325\t\n",
        "sig = 0.312864\n",
        "n=250\n",
        "\n",
        "\n",
        "result = binomial_put(S, K, T, R, div, sig, n)\n"
      ]
    },
    {
      "cell_type": "code",
      "execution_count": 17,
      "metadata": {
        "colab": {
          "base_uri": "https://localhost:8080/"
        },
        "id": "AtCEIeyXB3nq",
        "outputId": "9048d441-0ccd-4f41-b343-7612a8bd9aec"
      },
      "outputs": [
        {
          "name": "stdout",
          "output_type": "stream",
          "text": [
            "21.657898457999977 seconds per loop times of test function\n",
            "0.021657898457999977 seconds per each binomial_put\n"
          ]
        }
      ],
      "source": [
        "#binomial option price calcualtion time\n",
        "def test_bt():\n",
        "    return binomial_put(S, K, T, R, div, sig, n)\n",
        "\n",
        "loop = 1000\n",
        "\n",
        "result_bt = timeit.timeit('test_bt()', globals=globals(), number=loop)\n",
        "print(result_bt, 'seconds per loop times of test function')\n",
        "print(result_bt/loop, 'seconds per each binomial_put')"
      ]
    },
    {
      "cell_type": "code",
      "execution_count": 18,
      "metadata": {
        "id": "1b6_O3MmHq8S"
      },
      "outputs": [
        {
          "name": "stdout",
          "output_type": "stream",
          "text": [
            "11.584210039004752 times nn faster than bt\n"
          ]
        }
      ],
      "source": [
        "#result, which shows how much faster the neural net is than the binomial tree\n",
        "print(result_bt/result_nn, 'times nn faster than bt')"
      ]
    },
    {
      "cell_type": "code",
      "execution_count": null,
      "metadata": {},
      "outputs": [],
      "source": []
    },
    {
      "cell_type": "code",
      "execution_count": null,
      "metadata": {},
      "outputs": [],
      "source": []
    }
  ],
  "metadata": {
    "colab": {
      "collapsed_sections": [],
      "include_colab_link": true,
      "name": "OptionsAnalysisPricing191021.ipynb",
      "provenance": []
    },
    "kernelspec": {
      "display_name": "Python 3",
      "name": "python3"
    },
    "language_info": {
      "codemirror_mode": {
        "name": "ipython",
        "version": 3
      },
      "file_extension": ".py",
      "mimetype": "text/x-python",
      "name": "python",
      "nbconvert_exporter": "python",
      "pygments_lexer": "ipython3",
      "version": "3.9.7"
    }
  },
  "nbformat": 4,
  "nbformat_minor": 0
}
